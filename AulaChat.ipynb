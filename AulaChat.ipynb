{
  "nbformat": 4,
  "nbformat_minor": 0,
  "metadata": {
    "colab": {
      "provenance": [],
      "authorship_tag": "ABX9TyOrt0rM6/CU8wpMtqoi0U2e",
      "include_colab_link": true
    },
    "kernelspec": {
      "name": "python3",
      "display_name": "Python 3"
    },
    "language_info": {
      "name": "python"
    }
  },
  "cells": [
    {
      "cell_type": "markdown",
      "metadata": {
        "id": "view-in-github",
        "colab_type": "text"
      },
      "source": [
        "<a href=\"https://colab.research.google.com/github/lepereira651/Projeto-da-Alure/blob/main/AulaChat.ipynb\" target=\"_parent\"><img src=\"https://colab.research.google.com/assets/colab-badge.svg\" alt=\"Open In Colab\"/></a>"
      ]
    },
    {
      "cell_type": "code",
      "execution_count": 1,
      "metadata": {
        "id": "dNU7imrl89n4"
      },
      "outputs": [],
      "source": [
        "pip install -q -U google-generativeai"
      ]
    },
    {
      "cell_type": "code",
      "source": [
        "import google.generativeai as genai\n",
        "from google.colab import userdata\n",
        "api_key = userdata.get('SECRET_KEY')\n",
        "genai.configure(api_key=(\"COLE SUA API_KEY\")"
      ],
      "metadata": {
        "id": "iVzxWqPY9p3t"
      },
      "execution_count": 2,
      "outputs": []
    },
    {
      "cell_type": "markdown",
      "source": [
        "Listar os modelos disponiveis"
      ],
      "metadata": {
        "id": "qtBzmSbf92He"
      }
    },
    {
      "cell_type": "code",
      "source": [
        "for m in genai.list_models():\n",
        "  if 'generateContent' in m.supported_generation_methods:\n",
        "    print(m.name)"
      ],
      "metadata": {
        "colab": {
          "base_uri": "https://localhost:8080/",
          "height": 139
        },
        "id": "vdiQ82x095tV",
        "outputId": "e50e3506-d536-4c0a-8373-a867d1becc16"
      },
      "execution_count": 6,
      "outputs": [
        {
          "output_type": "stream",
          "name": "stdout",
          "text": [
            "models/gemini-1.0-pro\n",
            "models/gemini-1.0-pro-001\n",
            "models/gemini-1.0-pro-latest\n",
            "models/gemini-1.0-pro-vision-latest\n",
            "models/gemini-1.5-pro-latest\n",
            "models/gemini-pro\n",
            "models/gemini-pro-vision\n"
          ]
        }
      ]
    },
    {
      "cell_type": "code",
      "source": [
        "generation_config = {\n",
        "    \"candidate_count\": 1,\n",
        "    \"temperature\": 0.5,\n",
        "}"
      ],
      "metadata": {
        "id": "XGcL5BGSASTy"
      },
      "execution_count": 7,
      "outputs": []
    },
    {
      "cell_type": "code",
      "source": [
        "safety_settings = {\n",
        "  \"HARASSMENT\":\"block_none\"\n",
        "}"
      ],
      "metadata": {
        "id": "LqDL2rkkA6MW"
      },
      "execution_count": 19,
      "outputs": []
    },
    {
      "cell_type": "markdown",
      "source": [
        "Inicializando o modelo"
      ],
      "metadata": {
        "id": "bNY0NghEB3HC"
      }
    },
    {
      "cell_type": "code",
      "source": [
        "model = genai.GenerativeModel(model_name=\"gemini-1.0-pro\",\n",
        "                              generation_config=generation_config,\n",
        "                              safety_settings=safety_settings)"
      ],
      "metadata": {
        "id": "FCHLS-c3Bv-c"
      },
      "execution_count": 20,
      "outputs": []
    },
    {
      "cell_type": "code",
      "source": [
        "response = model.generate_content(\"Vamos aprender conteúdo sobre IA. Me dê sugestões\")\n",
        "print(response.text)"
      ],
      "metadata": {
        "colab": {
          "base_uri": "https://localhost:8080/",
          "height": 694
        },
        "id": "1poAqddIGMjL",
        "outputId": "ee15bd31-b0ef-4ba2-9176-0f908b359039"
      },
      "execution_count": 22,
      "outputs": [
        {
          "output_type": "stream",
          "name": "stdout",
          "text": [
            "**Conceitos Fundamentais**\n",
            "\n",
            "* Definição e história da Inteligência Artificial (IA)\n",
            "* Tipos de IA: aprendizado de máquina, aprendizado profundo, aprendizado por reforço\n",
            "* Algoritmos e modelos de IA\n",
            "* Ética e impacto social da IA\n",
            "\n",
            "**Aprendizado de Máquina**\n",
            "\n",
            "* Conceitos de aprendizado supervisionado, não supervisionado e por reforço\n",
            "* Modelos de aprendizado de máquina: regressão, classificação, agrupamento\n",
            "* Avaliação de modelos de aprendizado de máquina\n",
            "\n",
            "**Aprendizado Profundo**\n",
            "\n",
            "* Redes neurais e seus tipos (CNNs, RNNs, LSTMs)\n",
            "* Arquiteturas de redes neurais\n",
            "* Treinamento e ajuste de redes neurais\n",
            "\n",
            "**Aplicações da IA**\n",
            "\n",
            "* Reconhecimento de imagem e vídeo\n",
            "* Processamento de linguagem natural\n",
            "* Sistemas de recomendação\n",
            "* Veículos autônomos\n",
            "* Diagnóstico médico\n",
            "\n",
            "**Ferramentas e Tecnologias**\n",
            "\n",
            "* Bibliotecas de IA (TensorFlow, PyTorch, Keras)\n",
            "* Plataformas de computação em nuvem para IA\n",
            "* Ferramentas de visualização e depuração de IA\n",
            "\n",
            "**Tendências e Avanços**\n",
            "\n",
            "* Aprendizado de máquina automatizado (AutoML)\n",
            "* IA generativa (GANs, modelos de linguagem grandes)\n",
            "* IA quântica\n",
            "* IA para o bem social\n"
          ]
        }
      ]
    },
    {
      "cell_type": "code",
      "source": [
        "chat = model.start_chat(history=[])"
      ],
      "metadata": {
        "id": "og8NoNP3G0BJ"
      },
      "execution_count": 23,
      "outputs": []
    },
    {
      "cell_type": "code",
      "source": [
        "prompt = input(\"Esperando prompt:\")\n",
        "while prompt != \"fim\":\n",
        "  response = chat.send_message(prompt)\n",
        "  print(\"Resposta: \",response.text, \"\\n\")\n",
        "  prompt = input(\"Esperando prompt:\")"
      ],
      "metadata": {
        "colab": {
          "base_uri": "https://localhost:8080/",
          "height": 503
        },
        "id": "QSL15GDhHMBe",
        "outputId": "709f416c-a358-4e35-c0bb-bcd8a9130d00"
      },
      "execution_count": 27,
      "outputs": [
        {
          "name": "stdout",
          "output_type": "stream",
          "text": [
            "Esperando prompt:Qual é a capital da Australia\n",
            "Resposta:  Camberra \n",
            "\n",
            "Esperando prompt:Qual é a comida tipica deste país\n",
            "Resposta:  * **Pavlova:** Uma sobremesa à base de merengue com frutas frescas, geralmente servida com chantilly.\n",
            "* **Lamington:** Um bolo quadrado coberto com chocolate e polvilhado com coco ralado.\n",
            "* **Torta de carne:** Uma torta assada com carne moída, cebola e molho.\n",
            "* **Bife de canguru:** Carne de canguru grelhada ou assada.\n",
            "* **Barramundi:** Um peixe branco grelhado ou assado.\n",
            "* **Peixe e fritas:** Filés de peixe empanados e fritos servidos com batatas fritas.\n",
            "* **Vegemite:** Uma pasta salgada feita de extrato de levedura.\n",
            "* **Tim Tams:** Biscoitos de chocolate cobertos com uma camada de creme de chocolate.\n",
            "* **Anzac Biscuits:** Biscoitos de aveia com coco e xarope dourado.\n",
            "* **Damper:** Um pão tradicional aborígene feito com farinha e água. \n",
            "\n",
            "Esperando prompt:E se fosse o Japão?\n",
            "Resposta:  * **Sushi:** Arroz avinagrado com vários ingredientes, como peixe cru, frutos do mar, vegetais e ovos.\n",
            "* **Sashimi:** Peixe cru ou frutos do mar fatiados e servidos com molho de soja e wasabi.\n",
            "* **Ramen:** Macarrão em caldo à base de carne ou peixe, geralmente coberto com carne de porco, ovo e vegetais.\n",
            "* **Tempura:** Frutos do mar ou vegetais fritos em uma massa leve.\n",
            "* **Soba:** Macarrão de trigo sarraceno servido frio ou quente com vários molhos e coberturas.\n",
            "* **Udon:** Macarrão de farinha de trigo grosso servido em caldo quente ou frio.\n",
            "* **Onigiri:** Bolinhos de arroz recheados com vários ingredientes, como atum, salmão ou umeboshi (ameixa em conserva).\n",
            "* **Yakitori:** Espetos de frango grelhados com molho teriyaki.\n",
            "* **Takoyaki:** Bolas de polvo fritas.\n",
            "* **Okonomiyaki:** Uma panqueca salgada feita com farinha, repolho e vários outros ingredientes. \n",
            "\n",
            "Esperando prompt:fim\n"
          ]
        }
      ]
    },
    {
      "cell_type": "code",
      "source": [
        "#Melhorando a visualização\n",
        "#Código disponível em https://ai.google.dev/tutorials/python_quickstart#import_packages\n",
        "import textwrap\n",
        "from IPython.display import display\n",
        "from IPython.display import Markdown\n",
        "\n",
        "def to_markdown(text):\n",
        "  text = text.replace(\"*\", \"**\")\n",
        "  return Markdown(textwrap.indent(text, '> ', predicate=lambda _: True))\n",
        "\n",
        "#Imprimindo o histórico\n",
        "for message in chat.history:\n",
        "  display(to_markdown(f\"**{message.role}:** {message.parts[0].text}\"))\n",
        "print()"
      ],
      "metadata": {
        "colab": {
          "base_uri": "https://localhost:8080/",
          "height": 410
        },
        "id": "vjXOLo6zKalI",
        "outputId": "b0f7f605-59d5-4a37-b84b-b5667103e502"
      },
      "execution_count": 28,
      "outputs": [
        {
          "output_type": "display_data",
          "data": {
            "text/plain": [
              "<IPython.core.display.Markdown object>"
            ],
            "text/markdown": "> ****user:**** Qual é a capital da Australia"
          },
          "metadata": {}
        },
        {
          "output_type": "display_data",
          "data": {
            "text/plain": [
              "<IPython.core.display.Markdown object>"
            ],
            "text/markdown": "> ****model:**** Camberra"
          },
          "metadata": {}
        },
        {
          "output_type": "display_data",
          "data": {
            "text/plain": [
              "<IPython.core.display.Markdown object>"
            ],
            "text/markdown": "> ****user:**** Qual é a comida tipica deste país"
          },
          "metadata": {}
        },
        {
          "output_type": "display_data",
          "data": {
            "text/plain": [
              "<IPython.core.display.Markdown object>"
            ],
            "text/markdown": "> ****model:**** ** ****Pavlova:**** Uma sobremesa à base de merengue com frutas frescas, geralmente servida com chantilly.\n> ** ****Lamington:**** Um bolo quadrado coberto com chocolate e polvilhado com coco ralado.\n> ** ****Torta de carne:**** Uma torta assada com carne moída, cebola e molho.\n> ** ****Bife de canguru:**** Carne de canguru grelhada ou assada.\n> ** ****Barramundi:**** Um peixe branco grelhado ou assado.\n> ** ****Peixe e fritas:**** Filés de peixe empanados e fritos servidos com batatas fritas.\n> ** ****Vegemite:**** Uma pasta salgada feita de extrato de levedura.\n> ** ****Tim Tams:**** Biscoitos de chocolate cobertos com uma camada de creme de chocolate.\n> ** ****Anzac Biscuits:**** Biscoitos de aveia com coco e xarope dourado.\n> ** ****Damper:**** Um pão tradicional aborígene feito com farinha e água."
          },
          "metadata": {}
        },
        {
          "output_type": "display_data",
          "data": {
            "text/plain": [
              "<IPython.core.display.Markdown object>"
            ],
            "text/markdown": "> ****user:**** E se fosse o Japão?"
          },
          "metadata": {}
        },
        {
          "output_type": "display_data",
          "data": {
            "text/plain": [
              "<IPython.core.display.Markdown object>"
            ],
            "text/markdown": "> ****model:**** ** ****Sushi:**** Arroz avinagrado com vários ingredientes, como peixe cru, frutos do mar, vegetais e ovos.\n> ** ****Sashimi:**** Peixe cru ou frutos do mar fatiados e servidos com molho de soja e wasabi.\n> ** ****Ramen:**** Macarrão em caldo à base de carne ou peixe, geralmente coberto com carne de porco, ovo e vegetais.\n> ** ****Tempura:**** Frutos do mar ou vegetais fritos em uma massa leve.\n> ** ****Soba:**** Macarrão de trigo sarraceno servido frio ou quente com vários molhos e coberturas.\n> ** ****Udon:**** Macarrão de farinha de trigo grosso servido em caldo quente ou frio.\n> ** ****Onigiri:**** Bolinhos de arroz recheados com vários ingredientes, como atum, salmão ou umeboshi (ameixa em conserva).\n> ** ****Yakitori:**** Espetos de frango grelhados com molho teriyaki.\n> ** ****Takoyaki:**** Bolas de polvo fritas.\n> ** ****Okonomiyaki:**** Uma panqueca salgada feita com farinha, repolho e vários outros ingredientes."
          },
          "metadata": {}
        },
        {
          "output_type": "stream",
          "name": "stdout",
          "text": [
            "\n"
          ]
        }
      ]
    }
  ]
}